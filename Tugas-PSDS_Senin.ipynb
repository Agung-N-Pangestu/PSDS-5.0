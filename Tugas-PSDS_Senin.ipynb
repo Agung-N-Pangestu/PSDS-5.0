{
  "cells": [
    {
      "cell_type": "markdown",
      "metadata": {
        "id": "MngZ_b28jlIs"
      },
      "source": [
        "***OPERATOR***"
      ]
    },
    {
      "cell_type": "markdown",
      "metadata": {
        "id": "8AyFG8kWSy9O"
      },
      "source": [
        "**Latihan Operator 1 (Aritmatika)**"
      ]
    },
    {
      "cell_type": "code",
      "execution_count": 1,
      "metadata": {
        "colab": {
          "base_uri": "https://localhost:8080/"
        },
        "id": "ienbONQVS1sZ",
        "outputId": "30589c02-0bd3-4676-d7f6-5d670f539408"
      },
      "outputs": [
        {
          "name": "stdout",
          "output_type": "stream",
          "text": [
            "Penjumlahan\n",
            "13\n",
            "Pengurangan\n",
            "---------------\n",
            "3\n",
            "perkalian\n",
            "---------------\n",
            "16\n",
            "pembagian\n",
            "---------------\n",
            "6.0\n",
            "modulus\n",
            "---------------\n",
            "0\n",
            "perpangkatan\n",
            "---------------\n",
            "25\n",
            "pembagian dengan hasil pembulatan flooring\n",
            "---------------\n",
            "4\n"
          ]
        }
      ],
      "source": [
        "#Penjumlahan\n",
        "print('Penjumlahan')\n",
        "print(9+4)\n",
        "#Pengurangan\n",
        "print('Pengurangan')\n",
        "print('-'*15)\n",
        "print(7-4)\n",
        "#Perkalian\n",
        "print('perkalian')\n",
        "print('-'*15)\n",
        "print(8*2)\n",
        "#Pembagian\n",
        "print('pembagian')\n",
        "print('-'*15)\n",
        "print(18/3)\n",
        "#Modulus\n",
        "print('modulus')\n",
        "print('-'*15)\n",
        "print(9%3)\n",
        "#Perpangkatan\n",
        "print('perpangkatan')\n",
        "print('-'*15)\n",
        "print(5**2)\n",
        "#Pembagian dengan hasil pembulatan flooring\n",
        "print('pembagian dengan hasil pembulatan flooring')\n",
        "print('-'*15)\n",
        "print(13//3)\n"
      ]
    },
    {
      "cell_type": "markdown",
      "metadata": {
        "id": "_Irk7Y_gWCPd"
      },
      "source": [
        "**Latihan Operator 2 (Assignment)**"
      ]
    },
    {
      "cell_type": "code",
      "execution_count": 2,
      "metadata": {
        "colab": {
          "base_uri": "https://localhost:8080/"
        },
        "id": "5wkRRO_3WKM-",
        "outputId": "e239cb7f-22f6-4ac9-ea66-c5edd4a861b3"
      },
      "outputs": [
        {
          "name": "stdout",
          "output_type": "stream",
          "text": [
            "penjumlahan\n",
            "11\n",
            "12\n",
            "---------------\n",
            "pengurangan\n",
            "2\n",
            "0\n",
            "---------------\n",
            "perkalian\n",
            "6\n",
            "32\n",
            "---------------\n",
            "pembagian\n",
            "8.0\n",
            "3.0\n",
            "---------------\n",
            "modulus\n",
            "4\n",
            "1\n",
            "---------------\n",
            "pembagian flooring\n",
            "3\n",
            "5\n",
            "---------------\n",
            "729\n",
            "81\n"
          ]
        }
      ],
      "source": [
        "#Penjumlahan\n",
        "print('penjumlahan')\n",
        "x=7\n",
        "x=x+4\n",
        "print(x)\n",
        "x=8\n",
        "x+=4\n",
        "print(x)\n",
        "print('-'*15)\n",
        "#Pengurangan\n",
        "print('pengurangan')\n",
        "x=6\n",
        "x=x-4\n",
        "print(x)\n",
        "x=2\n",
        "x-=2\n",
        "print(x)\n",
        "print('-'*15)\n",
        "#perkalian\n",
        "print('perkalian')\n",
        "x=3\n",
        "x=x*2\n",
        "print(x)\n",
        "x=4\n",
        "x*=8\n",
        "print(x)\n",
        "print('-'*15)\n",
        "#pembagian\n",
        "print('pembagian')\n",
        "x=16\n",
        "x=x/2\n",
        "print(x)\n",
        "x=15\n",
        "x/=5\n",
        "print(x)\n",
        "print('-'*15)\n",
        "#modulus\n",
        "print('modulus')\n",
        "x=16\n",
        "x=x%6\n",
        "print(x)\n",
        "x=17\n",
        "x%=4\n",
        "print(x)\n",
        "print('-'*15)\n",
        "#Pembagian flooring\n",
        "print('pembagian flooring')\n",
        "x=17\n",
        "x=x//5\n",
        "print(x)\n",
        "x=17\n",
        "x//=3\n",
        "print(x)\n",
        "print('-'*15)\n",
        "#Perpangkatan\n",
        "x=3\n",
        "x=x**6\n",
        "print(x)\n",
        "x=3\n",
        "x**=4\n",
        "print(x)"
      ]
    },
    {
      "cell_type": "markdown",
      "metadata": {
        "id": "nBw-qdrIgLqd"
      },
      "source": [
        "**Latihan Operator 3 (Pembanding)**"
      ]
    },
    {
      "cell_type": "code",
      "execution_count": 3,
      "metadata": {
        "colab": {
          "base_uri": "https://localhost:8080/"
        },
        "id": "9CtF3AZNgW8c",
        "outputId": "44336570-0f97-4864-a3dd-25e144735f8d"
      },
      "outputs": [
        {
          "name": "stdout",
          "output_type": "stream",
          "text": [
            "True\n",
            "True\n",
            "False\n",
            "False\n",
            "True\n",
            "True\n"
          ]
        }
      ],
      "source": [
        "print(6==6)\n",
        "print(3!=2)\n",
        "print(5>6)\n",
        "print(7<2)\n",
        "print(7>=3)\n",
        "print(9<=9)"
      ]
    },
    {
      "cell_type": "markdown",
      "metadata": {
        "id": "rhLh9LaXg-xj"
      },
      "source": [
        "**Latihan Operator 4 (Logika)**"
      ]
    },
    {
      "cell_type": "code",
      "execution_count": null,
      "metadata": {
        "colab": {
          "base_uri": "https://localhost:8080/"
        },
        "id": "2mwGQwxnhlfX",
        "outputId": "39ed9910-0d08-4834-c370-fd718c148d4d"
      },
      "outputs": [
        {
          "name": "stdout",
          "output_type": "stream",
          "text": [
            "False\n",
            "True\n",
            "False\n"
          ]
        }
      ],
      "source": [
        "print(False and False)\n",
        "print(True or False)\n",
        "print(False and not True)"
      ]
    },
    {
      "cell_type": "markdown",
      "metadata": {
        "id": "Y4dHmDo9ia_P"
      },
      "source": [
        "**Latihan Operator 5 (Keanggotaan)**"
      ]
    },
    {
      "cell_type": "code",
      "execution_count": 4,
      "metadata": {
        "colab": {
          "base_uri": "https://localhost:8080/"
        },
        "id": "bcghy7SMihBh",
        "outputId": "157497e9-bb63-42da-b6c1-042a413dab17"
      },
      "outputs": [
        {
          "name": "stdout",
          "output_type": "stream",
          "text": [
            "True\n",
            "True\n"
          ]
        }
      ],
      "source": [
        "a=(4,5,6,7,8)\n",
        "b=5\n",
        "print(b in a)\n",
        "\n",
        "a=(2,4,5,7,8)\n",
        "b=1\n",
        "print(b not in a)"
      ]
    },
    {
      "cell_type": "markdown",
      "metadata": {
        "id": "qG9PiWDMjw33"
      },
      "source": [
        "***VARIABEL***"
      ]
    },
    {
      "cell_type": "markdown",
      "metadata": {
        "id": "AMkncf8dkvAV"
      },
      "source": [
        "***Latihan 1***"
      ]
    },
    {
      "cell_type": "code",
      "execution_count": 6,
      "metadata": {
        "colab": {
          "base_uri": "https://localhost:8080/"
        },
        "id": "9RKQNSm_mNaR",
        "outputId": "1e6450d1-6833-4627-c9c2-9fbc136aed32"
      },
      "outputs": [
        {
          "name": "stdout",
          "output_type": "stream",
          "text": [
            "menampilkan jumlah data\n",
            "77\n",
            "8.99\n",
            "False\n",
            "(7+9j)\n"
          ]
        }
      ],
      "source": [
        "kalimat ='menampilkan jumlah data'\n",
        "bilangan1= 77\n",
        "bilangan2= 8.99\n",
        "bilangan3= False\n",
        "bilangan4= 9j + 7\n",
        "\n",
        "print(kalimat)\n",
        "print(bilangan1)\n",
        "print(bilangan2)\n",
        "print(bilangan3)\n",
        "print(bilangan4)\n"
      ]
    },
    {
      "cell_type": "markdown",
      "metadata": {
        "id": "lRj96UWAnS45"
      },
      "source": [
        "***Latihan 2 (Tipe Data)***"
      ]
    },
    {
      "cell_type": "code",
      "execution_count": 7,
      "metadata": {
        "colab": {
          "base_uri": "https://localhost:8080/"
        },
        "id": "EkMoalbenV8O",
        "outputId": "95b49056-32c2-4a9c-fac6-c3336456e069"
      },
      "outputs": [
        {
          "name": "stdout",
          "output_type": "stream",
          "text": [
            "<class 'str'>\n",
            "<class 'int'>\n",
            "<class 'float'>\n",
            "<class 'bool'>\n",
            "<class 'complex'>\n"
          ]
        }
      ],
      "source": [
        "#menampilkan tipe data\n",
        "print(type(kalimat))\n",
        "print(type(bilangan1))\n",
        "print(type(bilangan2))\n",
        "print(type(bilangan3))\n",
        "print(type(bilangan4))"
      ]
    },
    {
      "cell_type": "markdown",
      "metadata": {
        "id": "rkZ9DfUysjum"
      },
      "source": [
        "***Latihan 3 (Koversi Tipe Data)***"
      ]
    },
    {
      "cell_type": "code",
      "execution_count": 8,
      "metadata": {
        "colab": {
          "base_uri": "https://localhost:8080/"
        },
        "id": "fxE4a_9Ksmus",
        "outputId": "2891df72-41b2-4170-8402-778604dde8ba"
      },
      "outputs": [
        {
          "name": "stdout",
          "output_type": "stream",
          "text": [
            "(7+9j)\n",
            "8.99\n",
            "False\n",
            "---------------\n",
            "8\n",
            "0\n",
            "---------------\n",
            "0.0\n",
            "8.99\n",
            "---------------\n",
            "False\n",
            "True\n",
            "---------------\n",
            "(7+9j)\n",
            "(77+0j)\n",
            "(8.99+0j)\n"
          ]
        }
      ],
      "source": [
        "#konversi tipe data string\n",
        "print(str(bilangan4))\n",
        "print(str(bilangan2))\n",
        "print(str(bilangan3))\n",
        "print('-'*15)\n",
        "#konversi tipe data integer\n",
        "print(int(bilangan2))\n",
        "print(int(bilangan3))\n",
        "print('-'*15)\n",
        "#konversi tipe data float\n",
        "print(float(bilangan3))\n",
        "print(float(bilangan2))\n",
        "print('-'*15)\n",
        "#konversi tipe data bool\n",
        "print(bool(bilangan3))\n",
        "print(bool(bilangan4))\n",
        "print('-'*15)\n",
        "#konversi tipe data complex\n",
        "print(complex(bilangan4))\n",
        "print(complex(bilangan1))\n",
        "print(complex(bilangan2))\n",
        "\n"
      ]
    }
  ],
  "metadata": {
    "colab": {
      "provenance": []
    },
    "kernelspec": {
      "display_name": "Python 3",
      "name": "python3"
    },
    "language_info": {
      "codemirror_mode": {
        "name": "ipython",
        "version": 3
      },
      "file_extension": ".py",
      "mimetype": "text/x-python",
      "name": "python",
      "nbconvert_exporter": "python",
      "pygments_lexer": "ipython3",
      "version": "3.11.2"
    }
  },
  "nbformat": 4,
  "nbformat_minor": 0
}
