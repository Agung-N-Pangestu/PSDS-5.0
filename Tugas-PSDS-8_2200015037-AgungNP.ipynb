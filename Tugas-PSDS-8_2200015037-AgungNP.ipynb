{
  "cells": [
    {
      "cell_type": "code",
      "execution_count": 1,
      "metadata": {
        "colab": {
          "base_uri": "https://localhost:8080/"
        },
        "id": "MEAkt6L23Mqx",
        "outputId": "a086c967-cc5c-4f3a-b229-0a565e6e795c"
      },
      "outputs": [
        {
          "name": "stdout",
          "output_type": "stream",
          "text": [
            "<class 'list'>\n"
          ]
        }
      ],
      "source": [
        "#ContohList\n",
        "L1 = [1, 4, 2, 13]\n",
        "print(type(L1))"
      ]
    },
    {
      "cell_type": "code",
      "execution_count": 3,
      "metadata": {
        "colab": {
          "base_uri": "https://localhost:8080/"
        },
        "id": "S9TwHT4L5BDu",
        "outputId": "007e1430-46e0-4d23-9320-60092690deb5"
      },
      "outputs": [
        {
          "name": "stdout",
          "output_type": "stream",
          "text": [
            "<class 'list'>\n"
          ]
        }
      ],
      "source": [
        "L2 = [\"a\", \"Python\", 3]\n",
        "print(type(L2))"
      ]
    },
    {
      "cell_type": "code",
      "execution_count": 4,
      "metadata": {
        "colab": {
          "base_uri": "https://localhost:8080/"
        },
        "id": "2WbqFZYh5BF5",
        "outputId": "1c89f23e-f65a-417e-bbf3-1ee4ce255006"
      },
      "outputs": [
        {
          "name": "stdout",
          "output_type": "stream",
          "text": [
            "[1, 4, 2, 13]\n",
            "['a', 'Python', 3]\n"
          ]
        }
      ],
      "source": [
        "print(L1)\n",
        "print(L2)"
      ]
    },
    {
      "cell_type": "code",
      "execution_count": 6,
      "metadata": {
        "colab": {
          "base_uri": "https://localhost:8080/"
        },
        "id": "gxwMT_jV5BHz",
        "outputId": "8130946e-c419-4075-826a-d5becab1b4aa"
      },
      "outputs": [
        {
          "name": "stdout",
          "output_type": "stream",
          "text": [
            "Memanggil List L1 dengan indeks urutan: [1, 4, 2]\n",
            "List L1 setelah diganti elemennya [1, 2, 2, 13]\n",
            "slicing list L1: (2+3j)\n",
            "Duplikasi pada List L1: [1, 'dua', True, (2+3j), (2+3j)]\n",
            "Data Setelah Diubah: [1, 'dua', 3, (2+3j)]\n",
            "Data setelah dihapus elemennya: [1, 'dua', True]\n"
          ]
        }
      ],
      "source": [
        "#SifatSifatList\n",
        "#1.Terurut/Ordered\n",
        "print(\"Memanggil List L1 dengan indeks urutan:\", L1[0:3])\n",
        "\n",
        "#2.BisaDiganti/Mutable\n",
        "L1[1] = 2\n",
        "print(\"List L1 setelah diganti elemennya\", L1)\n",
        "\n",
        "L1 = [1, \"dua\", True, 2+3j]\n",
        "\n",
        "#3.DapatDiindeks/Slicing\n",
        "print(\"slicing list L1:\", L1[3])\n",
        "\n",
        "#4.Dapat Diijinkan Duplikasi\n",
        "L1 = [1, \"dua\", True, 2+3j, 2+3j]\n",
        "print(\"Duplikasi pada List L1:\", L1)\n",
        "\n",
        "#5.DapatMengubahDataDenganMenggantiElemenTertentu\n",
        "L1 = [1, \"dua\", True, 2+3j]\n",
        "L1[2] = 3\n",
        "print(\"Data Setelah Diubah:\", L1)\n",
        "\n",
        "#6.dapatMenambahkanElemenBaruPadaData\n",
        "L1 = [1, \"dua\", True, 2+3j]\n",
        "L1.remove(2+3j)\n",
        "print(\"Data setelah dihapus elemennya:\", L1)"
      ]
    },
    {
      "cell_type": "code",
      "execution_count": 7,
      "metadata": {
        "colab": {
          "base_uri": "https://localhost:8080/"
        },
        "id": "8iV_x5-25BLP",
        "outputId": "d0170a0e-dcfa-4455-f7e0-6e1484ebeb8f"
      },
      "outputs": [
        {
          "name": "stdout",
          "output_type": "stream",
          "text": [
            "[1, 'dua', True, (2+3j), 'n', 'a', 'n', 'a', 's']\n"
          ]
        }
      ],
      "source": [
        "#7.MenambahkanDataMenggunakanFungsiExtend(MenambahkanElemenBaruPadaListNamunElementTersebutDitambahkanSecaraIndividual)\n",
        "L1 = [1, \"dua\", True, 2+3j]\n",
        "L1.extend(\"nanas\")\n",
        "print(L1)"
      ]
    },
    {
      "cell_type": "code",
      "execution_count": 8,
      "metadata": {
        "colab": {
          "base_uri": "https://localhost:8080/"
        },
        "id": "bEQqxogq7mww",
        "outputId": "0bb3934e-fe08-46f9-d865-4866234261fc"
      },
      "outputs": [
        {
          "name": "stdout",
          "output_type": "stream",
          "text": [
            "[1, 'dua', True, (2+3j), 'nanas']\n"
          ]
        }
      ],
      "source": [
        "L1 = [1, \"dua\", True, 2+3j]\n",
        "L1.extend([\"nanas\"])\n",
        "print(L1)"
      ]
    },
    {
      "cell_type": "code",
      "execution_count": 9,
      "metadata": {
        "colab": {
          "base_uri": "https://localhost:8080/"
        },
        "id": "SBf45l2J7m8m",
        "outputId": "debd057e-29b4-4797-ef17-029d9c80ac3c"
      },
      "outputs": [
        {
          "name": "stdout",
          "output_type": "stream",
          "text": [
            "[1, 'dua', 5, True, (2+3j)]\n"
          ]
        }
      ],
      "source": [
        "#8.MenambahkanDataMenggunakanFungsiInsert(MenambahkanElemenBaruDiListPadaIndeksTertentu)\n",
        "L1 = [1, \"dua\", True, 2+3j]\n",
        "L1.insert(2, 5)\n",
        "print(L1)"
      ]
    },
    {
      "cell_type": "code",
      "execution_count": 10,
      "metadata": {
        "colab": {
          "base_uri": "https://localhost:8080/"
        },
        "id": "Pxdlvddk7nFA",
        "outputId": "4480b26f-5111-4c24-c64f-480d7c39bb1d"
      },
      "outputs": [
        {
          "name": "stdout",
          "output_type": "stream",
          "text": [
            "[1, 'dua', (2+3j)]\n"
          ]
        }
      ],
      "source": [
        "#9.MenghapusElemenDariListMenggunakanFungsiPop(MenghapusBerdasarkanIndeks)\n",
        "L1 = [1, \"dua\", True, 2+3j]\n",
        "L1.pop(2)\n",
        "print(L1)"
      ]
    },
    {
      "cell_type": "code",
      "execution_count": 11,
      "metadata": {
        "colab": {
          "base_uri": "https://localhost:8080/"
        },
        "id": "P7HqUCSp8VVt",
        "outputId": "8d075736-187c-459c-81de-ea8ccff4226c"
      },
      "outputs": [
        {
          "name": "stdout",
          "output_type": "stream",
          "text": [
            "[1, 'dua', True]\n"
          ]
        }
      ],
      "source": [
        "L1 = [1, \"dua\", True, 2+3j]\n",
        "L1.pop()\n",
        "print(L1)"
      ]
    },
    {
      "attachments": {},
      "cell_type": "markdown",
      "metadata": {
        "id": "IQAYG_TsAZWG"
      },
      "source": [
        "Latihan 1. Buatlah List kalian sendiri"
      ]
    },
    {
      "cell_type": "code",
      "execution_count": 12,
      "metadata": {
        "colab": {
          "base_uri": "https://localhost:8080/"
        },
        "id": "JrdOUpfBAefx",
        "outputId": "7c49e589-a285-4dce-8ef3-b69239a0f844"
      },
      "outputs": [
        {
          "name": "stdout",
          "output_type": "stream",
          "text": [
            "[2, 'tiga', False, (3+4j)]\n"
          ]
        }
      ],
      "source": [
        "LS = [2, \"tiga\", False, 3+4j]\n",
        "print(LS)"
      ]
    },
    {
      "attachments": {},
      "cell_type": "markdown",
      "metadata": {
        "id": "f5neof6VAfDX"
      },
      "source": [
        "Latihan 2. Ganti elemen yang ada pada list yang kalian buat"
      ]
    },
    {
      "cell_type": "code",
      "execution_count": 17,
      "metadata": {
        "colab": {
          "base_uri": "https://localhost:8080/"
        },
        "id": "kkUzBt6RAluO",
        "outputId": "76698b5f-446d-4186-a332-69f7de557d99"
      },
      "outputs": [
        {
          "name": "stdout",
          "output_type": "stream",
          "text": [
            "[2, 'tiga', False, (3+4j), 'a', 'p', 'p', 'l', 'e']\n",
            "[2, 'tiga', False, (3+4j), 'a', 'p', 'p', 'l', 'e', 'apple']\n",
            "[2, 'tiga', False, 6, (3+4j), 'a', 'p', 'p', 'l', 'e', 'apple']\n",
            "[2, 'tiga', False, (3+4j), 'a', 'p', 'p', 'l', 'e', 'apple']\n"
          ]
        }
      ],
      "source": [
        "LS = [2, \"tiga\", False, 3+4j]\n",
        "\n",
        "LS.extend(\"apple\")\n",
        "print(LS)\n",
        "\n",
        "LS.extend([\"apple\"])\n",
        "print(LS)\n",
        "\n",
        "LS.insert(3, 6)\n",
        "print(LS)\n",
        "\n",
        "LS.pop(3)\n",
        "print(LS)"
      ]
    },
    {
      "cell_type": "code",
      "execution_count": 3,
      "metadata": {},
      "outputs": [
        {
          "name": "stdout",
          "output_type": "stream",
          "text": [
            "ini adalah tuple:  (1, True, 'dua', (2+1j))\n"
          ]
        }
      ],
      "source": [
        "#contoh tuple\n",
        "T1=(1,True,\"dua\",1j+2)\n",
        "print(\"ini adalah tuple: \", T1)\n"
      ]
    },
    {
      "cell_type": "code",
      "execution_count": 5,
      "metadata": {},
      "outputs": [
        {
          "name": "stdout",
          "output_type": "stream",
          "text": [
            "ini adalah tuple:  (1, True, 'dua', (2+1j))\n"
          ]
        }
      ],
      "source": [
        "T11=1,True,\"dua\",1j+2\n",
        "print(\"ini adalah tuple: \", T11)"
      ]
    },
    {
      "cell_type": "code",
      "execution_count": 8,
      "metadata": {},
      "outputs": [
        {
          "data": {
            "text/plain": [
              "tuple"
            ]
          },
          "execution_count": 8,
          "metadata": {},
          "output_type": "execute_result"
        }
      ],
      "source": [
        "type(T1)"
      ]
    },
    {
      "cell_type": "code",
      "execution_count": 9,
      "metadata": {},
      "outputs": [
        {
          "data": {
            "text/plain": [
              "tuple"
            ]
          },
          "execution_count": 9,
          "metadata": {},
          "output_type": "execute_result"
        }
      ],
      "source": [
        "type(T11)"
      ]
    },
    {
      "cell_type": "code",
      "execution_count": 10,
      "metadata": {},
      "outputs": [
        {
          "data": {
            "text/plain": [
              "(1, True, 'dua')"
            ]
          },
          "execution_count": 10,
          "metadata": {},
          "output_type": "execute_result"
        }
      ],
      "source": [
        "#terurut/ordered\n",
        "T1[0:3]"
      ]
    },
    {
      "cell_type": "code",
      "execution_count": 11,
      "metadata": {},
      "outputs": [
        {
          "ename": "TypeError",
          "evalue": "'tuple' object does not support item assignment",
          "output_type": "error",
          "traceback": [
            "\u001b[1;31m---------------------------------------------------------------------------\u001b[0m",
            "\u001b[1;31mTypeError\u001b[0m                                 Traceback (most recent call last)",
            "Cell \u001b[1;32mIn[11], line 2\u001b[0m\n\u001b[0;32m      1\u001b[0m \u001b[39m#tidak bisa diganti/immutable\u001b[39;00m\n\u001b[1;32m----> 2\u001b[0m T1[\u001b[39m2\u001b[39;49m]\u001b[39m=\u001b[39m\u001b[39m\"\u001b[39m\u001b[39mmanusia\u001b[39m\u001b[39m\"\u001b[39m\n",
            "\u001b[1;31mTypeError\u001b[0m: 'tuple' object does not support item assignment"
          ]
        }
      ],
      "source": [
        "#tidak bisa diganti/immutable\n",
        "T1[2]=\"manusia\""
      ]
    },
    {
      "cell_type": "code",
      "execution_count": 12,
      "metadata": {},
      "outputs": [
        {
          "name": "stdout",
          "output_type": "stream",
          "text": [
            "elemen kedua dari tupple T1 adalah:  True\n"
          ]
        }
      ],
      "source": [
        "#dapat di indeks/slicing\n",
        "print(\"elemen kedua dari tupple T1 adalah: \", T1[1])"
      ]
    },
    {
      "cell_type": "code",
      "execution_count": 13,
      "metadata": {},
      "outputs": [
        {
          "data": {
            "text/plain": [
              "(1, True, 'dua', (2+1j))"
            ]
          },
          "execution_count": 13,
          "metadata": {},
          "output_type": "execute_result"
        }
      ],
      "source": [
        "#dapat diizinkan duplikasi\n",
        "T11=1,True,\"dua\",1j+2\n",
        "T11"
      ]
    },
    {
      "cell_type": "code",
      "execution_count": 15,
      "metadata": {},
      "outputs": [
        {
          "name": "stdout",
          "output_type": "stream",
          "text": [
            "tuple\t: (1, True, 'dua', (2+1j))\n"
          ]
        }
      ],
      "source": [
        "#tidak dapat menambahkan elemen baru\n",
        "T1=(1,True,\"dua\",1j+2)\n",
        "print(f'tuple\\t: {T1}')"
      ]
    },
    {
      "cell_type": "code",
      "execution_count": 16,
      "metadata": {},
      "outputs": [
        {
          "ename": "AttributeError",
          "evalue": "'tuple' object has no attribute 'append'",
          "output_type": "error",
          "traceback": [
            "\u001b[1;31m---------------------------------------------------------------------------\u001b[0m",
            "\u001b[1;31mAttributeError\u001b[0m                            Traceback (most recent call last)",
            "Cell \u001b[1;32mIn[16], line 1\u001b[0m\n\u001b[1;32m----> 1\u001b[0m T1\u001b[39m.\u001b[39;49mappend(\u001b[39m10\u001b[39m)\n\u001b[0;32m      2\u001b[0m T1\u001b[39m.\u001b[39mappend(\u001b[39m20\u001b[39m)\n\u001b[0;32m      3\u001b[0m \u001b[39mprint\u001b[39m(\u001b[39mf\u001b[39m\u001b[39m'\u001b[39m\u001b[39mtuple\u001b[39m\u001b[39m\\t\u001b[39;00m\u001b[39m: \u001b[39m\u001b[39m{\u001b[39;00mT1\u001b[39m}\u001b[39;00m\u001b[39m'\u001b[39m)\n",
            "\u001b[1;31mAttributeError\u001b[0m: 'tuple' object has no attribute 'append'"
          ]
        }
      ],
      "source": [
        "T1.append(10)\n",
        "T1.append(20)\n",
        "print(f'tuple\\t: {T1}')"
      ]
    },
    {
      "cell_type": "code",
      "execution_count": 17,
      "metadata": {},
      "outputs": [
        {
          "name": "stdout",
          "output_type": "stream",
          "text": [
            "tuple\t: (1, True, 'dua', (2+1j))\n"
          ]
        }
      ],
      "source": [
        "#tidak dapat menghapus elemen \n",
        "T1=(1,True,\"dua\",1j+2)\n",
        "print(f'tuple\\t: {T1}')"
      ]
    },
    {
      "cell_type": "code",
      "execution_count": 19,
      "metadata": {},
      "outputs": [
        {
          "ename": "AttributeError",
          "evalue": "'tuple' object has no attribute 'remove'",
          "output_type": "error",
          "traceback": [
            "\u001b[1;31m---------------------------------------------------------------------------\u001b[0m",
            "\u001b[1;31mAttributeError\u001b[0m                            Traceback (most recent call last)",
            "Cell \u001b[1;32mIn[19], line 1\u001b[0m\n\u001b[1;32m----> 1\u001b[0m T1\u001b[39m.\u001b[39;49mremove(\u001b[39m1\u001b[39m)\n\u001b[0;32m      2\u001b[0m \u001b[39mprint\u001b[39m(\u001b[39mf\u001b[39m\u001b[39m'\u001b[39m\u001b[39mtuple\u001b[39m\u001b[39m\\t\u001b[39;00m\u001b[39m: \u001b[39m\u001b[39m{\u001b[39;00mT1\u001b[39m}\u001b[39;00m\u001b[39m'\u001b[39m)\n",
            "\u001b[1;31mAttributeError\u001b[0m: 'tuple' object has no attribute 'remove'"
          ]
        }
      ],
      "source": [
        "T1.remove(1)\n",
        "print(f'tuple\\t: {T1}')"
      ]
    },
    {
      "cell_type": "code",
      "execution_count": 21,
      "metadata": {},
      "outputs": [
        {
          "data": {
            "text/plain": [
              "(1, True, 'dua', (2+1j), 1, True, 'dua', (2+1j))"
            ]
          },
          "execution_count": 21,
          "metadata": {},
          "output_type": "execute_result"
        }
      ],
      "source": [
        "#menggabungkan tuple\n",
        "T5=T1+T11\n",
        "T5"
      ]
    },
    {
      "cell_type": "code",
      "execution_count": 22,
      "metadata": {},
      "outputs": [
        {
          "data": {
            "text/plain": [
              "(1, 2, 3, 'Tahu', 'Bakso', True, False)"
            ]
          },
          "execution_count": 22,
          "metadata": {},
          "output_type": "execute_result"
        }
      ],
      "source": [
        "T0=(1,2,3,\"Tahu\",\"Bakso\",True,False)\n",
        "T0"
      ]
    },
    {
      "cell_type": "code",
      "execution_count": 23,
      "metadata": {},
      "outputs": [
        {
          "data": {
            "text/plain": [
              "tuple"
            ]
          },
          "execution_count": 23,
          "metadata": {},
          "output_type": "execute_result"
        }
      ],
      "source": [
        "type(T0)"
      ]
    },
    {
      "cell_type": "code",
      "execution_count": 25,
      "metadata": {},
      "outputs": [
        {
          "data": {
            "text/plain": [
              "(0, 3, 4, 'apel', False, 3j)"
            ]
          },
          "execution_count": 25,
          "metadata": {},
          "output_type": "execute_result"
        }
      ],
      "source": [
        "T6=(0,3,4,\"apel\",False,3j+0)\n",
        "T6"
      ]
    },
    {
      "cell_type": "code",
      "execution_count": 26,
      "metadata": {},
      "outputs": [
        {
          "data": {
            "text/plain": [
              "tuple"
            ]
          },
          "execution_count": 26,
          "metadata": {},
          "output_type": "execute_result"
        }
      ],
      "source": [
        "type(T6)"
      ]
    },
    {
      "cell_type": "code",
      "execution_count": 27,
      "metadata": {},
      "outputs": [
        {
          "data": {
            "text/plain": [
              "(0, 3, 4, 'apel', False, 3j, 1, 2, 3, 'Tahu', 'Bakso', True, False)"
            ]
          },
          "execution_count": 27,
          "metadata": {},
          "output_type": "execute_result"
        }
      ],
      "source": [
        "T77=T6+T0\n",
        "T77"
      ]
    }
  ],
  "metadata": {
    "colab": {
      "provenance": []
    },
    "kernelspec": {
      "display_name": "Python 3",
      "name": "python3"
    },
    "language_info": {
      "codemirror_mode": {
        "name": "ipython",
        "version": 3
      },
      "file_extension": ".py",
      "mimetype": "text/x-python",
      "name": "python",
      "nbconvert_exporter": "python",
      "pygments_lexer": "ipython3",
      "version": "3.11.2"
    }
  },
  "nbformat": 4,
  "nbformat_minor": 0
}
