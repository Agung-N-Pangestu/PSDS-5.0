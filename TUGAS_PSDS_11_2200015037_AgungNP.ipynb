{
  "nbformat": 4,
  "nbformat_minor": 0,
  "metadata": {
    "colab": {
      "provenance": []
    },
    "kernelspec": {
      "name": "python3",
      "display_name": "Python 3"
    },
    "language_info": {
      "name": "python"
    }
  },
  "cells": [
    {
      "cell_type": "markdown",
      "source": [
        "1. Fungsi lambda untuk menghitung luas dari persegi panjang"
      ],
      "metadata": {
        "id": "f1hEvdSJx9lZ"
      }
    },
    {
      "cell_type": "code",
      "source": [
        "f = lambda p,l : p*l\n",
        "val5 = f(50,10)\n",
        "print(val5)\n"
      ],
      "metadata": {
        "colab": {
          "base_uri": "https://localhost:8080/"
        },
        "id": "9FDP0L1rx9wt",
        "outputId": "d96b9818-6b27-4ce0-bf8f-374ec98f10bb"
      },
      "execution_count": 4,
      "outputs": [
        {
          "output_type": "stream",
          "name": "stdout",
          "text": [
            "500\n"
          ]
        }
      ]
    },
    {
      "cell_type": "markdown",
      "source": [
        "2. Fungsi lambda untuk menghitung luas dari segitiga\n"
      ],
      "metadata": {
        "id": "HwBplbL4yskr"
      }
    },
    {
      "cell_type": "code",
      "source": [
        "f = lambda a,t : (a*t)/2\n",
        "val6 = f(6,8)\n",
        "print(val6)"
      ],
      "metadata": {
        "colab": {
          "base_uri": "https://localhost:8080/"
        },
        "id": "GYc6xJqbyySr",
        "outputId": "8b0c68de-605a-4ace-ad60-163b6c79efb2"
      },
      "execution_count": 5,
      "outputs": [
        {
          "output_type": "stream",
          "name": "stdout",
          "text": [
            "24.0\n"
          ]
        }
      ]
    }
  ]
}